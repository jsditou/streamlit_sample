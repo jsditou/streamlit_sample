{
 "cells": [
  {
   "cell_type": "code",
   "execution_count": 12,
   "metadata": {},
   "outputs": [],
   "source": [
    "import streamlit as st\n",
    "import sqlite3\n",
    "#import openai\n"
   ]
  },
  {
   "cell_type": "code",
   "execution_count": 14,
   "metadata": {},
   "outputs": [],
   "source": [
    "# データベースの接続とテーブルの作成\n",
    "def init_db():\n",
    "  conn = sqlite3.connect('employee.db')\n",
    "  c = conn.cursor()\n",
    "  c.execute('''\n",
    "    CREATE TABLE IF NOT EXISTS employees (\n",
    "      id INTEGER PRIMARY KEY AUTOINCREMENT,\n",
    "      name TEXT,\n",
    "      age INTEGER,\n",
    "      department TEXT\n",
    "    )\n",
    "  ''')\n",
    "  conn.commit()\n",
    "  conn.close()\n"
   ]
  },
  {
   "cell_type": "code",
   "execution_count": 15,
   "metadata": {},
   "outputs": [],
   "source": [
    "# データベースに社員情報を登録する関数\n",
    "def add_employee(name, age, department):\n",
    "  conn = sqlite3.connect('employee.db')\n",
    "  c = conn.cursor()\n",
    "  c.execute('''\n",
    "    INSERT INTO employees (name, age, department) VALUES (?, ?, ?)\n",
    "  ''', (name, age, department))\n",
    "  conn.commit()\n",
    "  conn.close()"
   ]
  },
  {
   "cell_type": "code",
   "execution_count": 16,
   "metadata": {},
   "outputs": [],
   "source": [
    "# Streamlitアプリケーション\n",
    "def main():\n",
    "    st.title(\"社員情報登録システム\")\n",
    "\n",
    "    # 入力フォーム\n",
    "    name = st.text_input(\"名前\")\n",
    "    age = st.number_input(\"年齢\", min_value=18, max_value=100, step=1)\n",
    "    department = st.text_input(\"部署\")\n",
    "\n",
    "    if st.button(\"登録\"):\n",
    "        if name and department:\n",
    "            add_employee(name, age, department)\n",
    "            st.success(\"社員情報を登録しました！\")\n",
    "        else:\n",
    "            st.error(\"すべてのフィールドを入力してください。\")\n",
    "    # データベースの初期化\n",
    "    init_db()"
   ]
  },
  {
   "cell_type": "code",
   "execution_count": 17,
   "metadata": {},
   "outputs": [],
   "source": [
    "if __name__ == \"__main__\":\n",
    "    main()"
   ]
  },
  {
   "cell_type": "code",
   "execution_count": null,
   "metadata": {},
   "outputs": [],
   "source": []
  }
 ],
 "metadata": {
  "kernelspec": {
   "display_name": "Python 3",
   "language": "python",
   "name": "python3"
  },
  "language_info": {
   "codemirror_mode": {
    "name": "ipython",
    "version": 3
   },
   "file_extension": ".py",
   "mimetype": "text/x-python",
   "name": "python",
   "nbconvert_exporter": "python",
   "pygments_lexer": "ipython3",
   "version": "3.11.9"
  }
 },
 "nbformat": 4,
 "nbformat_minor": 2
}
